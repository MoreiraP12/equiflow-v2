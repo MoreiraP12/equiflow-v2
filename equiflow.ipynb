{
 "cells": [
  {
   "cell_type": "code",
   "execution_count": 1,
   "metadata": {},
   "outputs": [],
   "source": [
    "import numpy as np\n",
    "import pandas as pd\n",
    "from equiflow import *"
   ]
  },
  {
   "cell_type": "code",
   "execution_count": 2,
   "metadata": {},
   "outputs": [],
   "source": [
    "np.random.seed(42)\n",
    "n = 100000\n",
    "data = {\n",
    "    'age': np.random.randint(10, 80, size=n),\n",
    "    'sofa': np.random.choice([0,1,2,3,4,5,6,7,8,9,10,15, np.nan], size=n),\n",
    "    'race': np.random.choice(['White', 'Black', 'Asian', 'Hispanic', None],\n",
    "                             size=n),\n",
    "    'sex': np.random.choice(['Male', 'Female'], size=n),\n",
    "    'english': np.random.choice(['Fluent', 'Limited', np.nan, None], size=n),\n",
    "}\n",
    "\n",
    "for i in range(1, 11):\n",
    "    data[f'var{i}'] = np.random.randn(n)\n",
    "\n",
    "df = pd.DataFrame(data)"
   ]
  },
  {
   "cell_type": "code",
   "execution_count": 7,
   "metadata": {},
   "outputs": [],
   "source": [
    "eqfl = EquiFlow(df,\n",
    "                initial_cohort_label='MIMIC-IV',\n",
    "                categorical=['english'],\n",
    "                normal=['age'],\n",
    "                nonnormal=['sofa'],\n",
    "                rename={\n",
    "                    'sofa': 'SOFA',\n",
    "                    'age': 'Age',\n",
    "                    'english': 'English Proficiency',\n",
    "                },\n",
    "                missingness=True,\n",
    "                )\n",
    "\n",
    "# eqfl.add_exclusion(\n",
    "#     mask=df.english.notnull(),\n",
    "#     exclusion_reason='missing English Proficiency',\n",
    "#     new_cohort_label='with English Proficiency data'\n",
    "# )\n",
    "\n",
    "eqfl.add_exclusion(\n",
    "    new_cohort=df.loc[df.english.notnull()],\n",
    "    exclusion_reason='missing English Proficiency',\n",
    "    new_cohort_label='with English Proficiency data'\n",
    ")\n",
    "\n",
    "# add a filter for age\n",
    "eqfl.add_exclusion(\n",
    "    mask=df.age >= 18,\n",
    "    exclusion_reason='age < 18',\n",
    "    new_cohort_label='adults only'\n",
    ")                    \n",
    "\n",
    "eqfl.plot_flows(\n",
    "    legend=True\n",
    ")"
   ]
  },
  {
   "cell_type": "code",
   "execution_count": 4,
   "metadata": {},
   "outputs": [
    {
     "data": {
      "text/html": [
       "<div>\n",
       "<style scoped>\n",
       "    .dataframe tbody tr th:only-of-type {\n",
       "        vertical-align: middle;\n",
       "    }\n",
       "\n",
       "    .dataframe tbody tr th {\n",
       "        vertical-align: top;\n",
       "    }\n",
       "\n",
       "    .dataframe thead th {\n",
       "        text-align: right;\n",
       "    }\n",
       "</style>\n",
       "<table border=\"1\" class=\"dataframe\">\n",
       "  <thead>\n",
       "    <tr style=\"text-align: right;\">\n",
       "      <th>Cohort Flow</th>\n",
       "      <th>0 to 1</th>\n",
       "    </tr>\n",
       "    <tr>\n",
       "      <th></th>\n",
       "      <th></th>\n",
       "    </tr>\n",
       "  </thead>\n",
       "  <tbody>\n",
       "    <tr>\n",
       "      <th>Initial, n</th>\n",
       "      <td>100,000</td>\n",
       "    </tr>\n",
       "    <tr>\n",
       "      <th>Removed, n</th>\n",
       "      <td>49,978</td>\n",
       "    </tr>\n",
       "    <tr>\n",
       "      <th>Result, n</th>\n",
       "      <td>50,022</td>\n",
       "    </tr>\n",
       "  </tbody>\n",
       "</table>\n",
       "</div>"
      ],
      "text/plain": [
       "Cohort Flow   0 to 1\n",
       "                    \n",
       "Initial, n   100,000\n",
       "Removed, n    49,978\n",
       "Result, n     50,022"
      ]
     },
     "execution_count": 4,
     "metadata": {},
     "output_type": "execute_result"
    }
   ],
   "source": [
    "eqfl.view_table_flows()"
   ]
  },
  {
   "cell_type": "code",
   "execution_count": 5,
   "metadata": {},
   "outputs": [
    {
     "data": {
      "text/html": [
       "<div>\n",
       "<style scoped>\n",
       "    .dataframe tbody tr th:only-of-type {\n",
       "        vertical-align: middle;\n",
       "    }\n",
       "\n",
       "    .dataframe tbody tr th {\n",
       "        vertical-align: top;\n",
       "    }\n",
       "\n",
       "    .dataframe thead tr th {\n",
       "        text-align: left;\n",
       "    }\n",
       "\n",
       "    .dataframe thead tr:last-of-type th {\n",
       "        text-align: right;\n",
       "    }\n",
       "</style>\n",
       "<table border=\"1\" class=\"dataframe\">\n",
       "  <thead>\n",
       "    <tr>\n",
       "      <th></th>\n",
       "      <th></th>\n",
       "      <th colspan=\"2\" halign=\"left\">Cohort</th>\n",
       "    </tr>\n",
       "    <tr>\n",
       "      <th></th>\n",
       "      <th></th>\n",
       "      <th>0</th>\n",
       "      <th>1</th>\n",
       "    </tr>\n",
       "    <tr>\n",
       "      <th>Variable</th>\n",
       "      <th>Value</th>\n",
       "      <th></th>\n",
       "      <th></th>\n",
       "    </tr>\n",
       "  </thead>\n",
       "  <tbody>\n",
       "    <tr>\n",
       "      <th>Overall</th>\n",
       "      <th></th>\n",
       "      <td>100,000</td>\n",
       "      <td>50,022</td>\n",
       "    </tr>\n",
       "    <tr>\n",
       "      <th rowspan=\"5\" valign=\"top\">Race and Ethnicity, N (%)</th>\n",
       "      <th>Hispanic</th>\n",
       "      <td>20,024 (20.0)</td>\n",
       "      <td>10,011 (20.0)</td>\n",
       "    </tr>\n",
       "    <tr>\n",
       "      <th>Asian</th>\n",
       "      <td>19,952 (20.0)</td>\n",
       "      <td>9,918 (19.8)</td>\n",
       "    </tr>\n",
       "    <tr>\n",
       "      <th>Black</th>\n",
       "      <td>20,066 (20.1)</td>\n",
       "      <td>10,088 (20.2)</td>\n",
       "    </tr>\n",
       "    <tr>\n",
       "      <th>White</th>\n",
       "      <td>19,931 (19.9)</td>\n",
       "      <td>9,978 (19.9)</td>\n",
       "    </tr>\n",
       "    <tr>\n",
       "      <th>Missing</th>\n",
       "      <td>20,027 (20.0)</td>\n",
       "      <td>10,027 (20.0)</td>\n",
       "    </tr>\n",
       "    <tr>\n",
       "      <th rowspan=\"3\" valign=\"top\">English Proficiency, N (%)</th>\n",
       "      <th>Fluent</th>\n",
       "      <td>25,134 (25.1)</td>\n",
       "      <td>25,134 (50.2)</td>\n",
       "    </tr>\n",
       "    <tr>\n",
       "      <th>Limited</th>\n",
       "      <td>24,888 (24.9)</td>\n",
       "      <td>24,888 (49.8)</td>\n",
       "    </tr>\n",
       "    <tr>\n",
       "      <th>Missing</th>\n",
       "      <td>49,978 (50.0)</td>\n",
       "      <td>0 (0.0)</td>\n",
       "    </tr>\n",
       "  </tbody>\n",
       "</table>\n",
       "</div>"
      ],
      "text/plain": [
       "                                            Cohort               \n",
       "                                                 0              1\n",
       "Variable                   Value                                 \n",
       "Overall                                    100,000         50,022\n",
       "Race and Ethnicity, N (%)  Hispanic  20,024 (20.0)  10,011 (20.0)\n",
       "                           Asian     19,952 (20.0)   9,918 (19.8)\n",
       "                           Black     20,066 (20.1)  10,088 (20.2)\n",
       "                           White     19,931 (19.9)   9,978 (19.9)\n",
       "                           Missing   20,027 (20.0)  10,027 (20.0)\n",
       "English Proficiency, N (%) Fluent    25,134 (25.1)  25,134 (50.2)\n",
       "                           Limited   24,888 (24.9)  24,888 (49.8)\n",
       "                           Missing   49,978 (50.0)        0 (0.0)"
      ]
     },
     "execution_count": 5,
     "metadata": {},
     "output_type": "execute_result"
    }
   ],
   "source": [
    "eqfl.view_table_characteristics()"
   ]
  },
  {
   "cell_type": "code",
   "execution_count": 11,
   "metadata": {},
   "outputs": [
    {
     "data": {
      "text/html": [
       "<div>\n",
       "<style scoped>\n",
       "    .dataframe tbody tr th:only-of-type {\n",
       "        vertical-align: middle;\n",
       "    }\n",
       "\n",
       "    .dataframe tbody tr th {\n",
       "        vertical-align: top;\n",
       "    }\n",
       "\n",
       "    .dataframe thead th {\n",
       "        text-align: right;\n",
       "    }\n",
       "</style>\n",
       "<table border=\"1\" class=\"dataframe\">\n",
       "  <thead>\n",
       "    <tr style=\"text-align: right;\">\n",
       "      <th></th>\n",
       "      <th>Cohort Flow</th>\n",
       "      <th>0 to 1</th>\n",
       "    </tr>\n",
       "    <tr>\n",
       "      <th>Variable</th>\n",
       "      <th>Value</th>\n",
       "      <th></th>\n",
       "    </tr>\n",
       "  </thead>\n",
       "  <tbody>\n",
       "    <tr>\n",
       "      <th>Overall</th>\n",
       "      <th></th>\n",
       "      <td></td>\n",
       "    </tr>\n",
       "    <tr>\n",
       "      <th rowspan=\"4\" valign=\"top\">Race and Ethnicity</th>\n",
       "      <th>Hispanic</th>\n",
       "      <td>0.0</td>\n",
       "    </tr>\n",
       "    <tr>\n",
       "      <th>Asian</th>\n",
       "      <td>0.0</td>\n",
       "    </tr>\n",
       "    <tr>\n",
       "      <th>Black</th>\n",
       "      <td>0.0</td>\n",
       "    </tr>\n",
       "    <tr>\n",
       "      <th>White</th>\n",
       "      <td>0.0</td>\n",
       "    </tr>\n",
       "    <tr>\n",
       "      <th rowspan=\"2\" valign=\"top\">English Proficiency</th>\n",
       "      <th>Fluent</th>\n",
       "      <td>0.5</td>\n",
       "    </tr>\n",
       "    <tr>\n",
       "      <th>Limited</th>\n",
       "      <td>0.5</td>\n",
       "    </tr>\n",
       "  </tbody>\n",
       "</table>\n",
       "</div>"
      ],
      "text/plain": [
       "Cohort Flow                  0 to 1\n",
       "Variable            Value          \n",
       "Overall                            \n",
       "Race and Ethnicity  Hispanic    0.0\n",
       "                    Asian       0.0\n",
       "                    Black       0.0\n",
       "                    White       0.0\n",
       "English Proficiency Fluent      0.5\n",
       "                    Limited     0.5"
      ]
     },
     "execution_count": 11,
     "metadata": {},
     "output_type": "execute_result"
    }
   ],
   "source": [
    "eqfl.view_table_drifts(drifts_by_class=False)"
   ]
  },
  {
   "cell_type": "code",
   "execution_count": 7,
   "metadata": {},
   "outputs": [],
   "source": []
  },
  {
   "cell_type": "code",
   "execution_count": null,
   "metadata": {},
   "outputs": [
    {
     "ename": "",
     "evalue": "",
     "output_type": "error",
     "traceback": [
      "\u001b[1;31mnotebook controller is DISPOSED. \n",
      "\u001b[1;31mView Jupyter <a href='command:jupyter.viewOutput'>log</a> for further details."
     ]
    },
    {
     "ename": "",
     "evalue": "",
     "output_type": "error",
     "traceback": [
      "\u001b[1;31mnotebook controller is DISPOSED. \n",
      "\u001b[1;31mView Jupyter <a href='command:jupyter.viewOutput'>log</a> for further details."
     ]
    },
    {
     "ename": "",
     "evalue": "",
     "output_type": "error",
     "traceback": [
      "\u001b[1;31mnotebook controller is DISPOSED. \n",
      "\u001b[1;31mView Jupyter <a href='command:jupyter.viewOutput'>log</a> for further details."
     ]
    },
    {
     "ename": "",
     "evalue": "",
     "output_type": "error",
     "traceback": [
      "\u001b[1;31mnotebook controller is DISPOSED. \n",
      "\u001b[1;31mView Jupyter <a href='command:jupyter.viewOutput'>log</a> for further details."
     ]
    },
    {
     "ename": "",
     "evalue": "",
     "output_type": "error",
     "traceback": [
      "\u001b[1;31mnotebook controller is DISPOSED. \n",
      "\u001b[1;31mView Jupyter <a href='command:jupyter.viewOutput'>log</a> for further details."
     ]
    },
    {
     "ename": "",
     "evalue": "",
     "output_type": "error",
     "traceback": [
      "\u001b[1;31mnotebook controller is DISPOSED. \n",
      "\u001b[1;31mView Jupyter <a href='command:jupyter.viewOutput'>log</a> for further details."
     ]
    }
   ],
   "source": [
    "data_0 = df.copy()\n",
    "data_1 = data_0.loc[data_0.english.notnull()]\n",
    "data_2 = data_1.loc[data_1.sofa.notnull()]\n",
    "\n",
    "# ef = EquiFlow(dfs = [data_0, data_1, data_2])\n",
    "\n"
   ]
  },
  {
   "cell_type": "code",
   "execution_count": null,
   "metadata": {},
   "outputs": [
    {
     "data": {
      "text/html": [
       "<div>\n",
       "<style scoped>\n",
       "    .dataframe tbody tr th:only-of-type {\n",
       "        vertical-align: middle;\n",
       "    }\n",
       "\n",
       "    .dataframe tbody tr th {\n",
       "        vertical-align: top;\n",
       "    }\n",
       "\n",
       "    .dataframe thead th {\n",
       "        text-align: right;\n",
       "    }\n",
       "</style>\n",
       "<table border=\"1\" class=\"dataframe\">\n",
       "  <thead>\n",
       "    <tr style=\"text-align: right;\">\n",
       "      <th>Cohort Flow</th>\n",
       "      <th>0 to 1</th>\n",
       "      <th>1 to 2</th>\n",
       "    </tr>\n",
       "    <tr>\n",
       "      <th></th>\n",
       "      <th></th>\n",
       "      <th></th>\n",
       "    </tr>\n",
       "  </thead>\n",
       "  <tbody>\n",
       "    <tr>\n",
       "      <th>Inital, n</th>\n",
       "      <td>100000</td>\n",
       "      <td>50022</td>\n",
       "    </tr>\n",
       "    <tr>\n",
       "      <th>Removed, n</th>\n",
       "      <td>49978</td>\n",
       "      <td>3874</td>\n",
       "    </tr>\n",
       "    <tr>\n",
       "      <th>Result, n</th>\n",
       "      <td>50022</td>\n",
       "      <td>46148</td>\n",
       "    </tr>\n",
       "  </tbody>\n",
       "</table>\n",
       "</div>"
      ],
      "text/plain": [
       "Cohort Flow  0 to 1  1 to 2\n",
       "                           \n",
       "Inital, n    100000   50022\n",
       "Removed, n    49978    3874\n",
       "Result, n     50022   46148"
      ]
     },
     "execution_count": 5,
     "metadata": {},
     "output_type": "execute_result"
    },
    {
     "ename": "",
     "evalue": "",
     "output_type": "error",
     "traceback": [
      "\u001b[1;31mnotebook controller is DISPOSED. \n",
      "\u001b[1;31mView Jupyter <a href='command:jupyter.viewOutput'>log</a> for further details."
     ]
    },
    {
     "ename": "",
     "evalue": "",
     "output_type": "error",
     "traceback": [
      "\u001b[1;31mnotebook controller is DISPOSED. \n",
      "\u001b[1;31mView Jupyter <a href='command:jupyter.viewOutput'>log</a> for further details."
     ]
    },
    {
     "ename": "",
     "evalue": "",
     "output_type": "error",
     "traceback": [
      "\u001b[1;31mnotebook controller is DISPOSED. \n",
      "\u001b[1;31mView Jupyter <a href='command:jupyter.viewOutput'>log</a> for further details."
     ]
    },
    {
     "ename": "",
     "evalue": "",
     "output_type": "error",
     "traceback": [
      "\u001b[1;31mnotebook controller is DISPOSED. \n",
      "\u001b[1;31mView Jupyter <a href='command:jupyter.viewOutput'>log</a> for further details."
     ]
    },
    {
     "ename": "",
     "evalue": "",
     "output_type": "error",
     "traceback": [
      "\u001b[1;31mnotebook controller is DISPOSED. \n",
      "\u001b[1;31mView Jupyter <a href='command:jupyter.viewOutput'>log</a> for further details."
     ]
    },
    {
     "ename": "",
     "evalue": "",
     "output_type": "error",
     "traceback": [
      "\u001b[1;31mnotebook controller is DISPOSED. \n",
      "\u001b[1;31mView Jupyter <a href='command:jupyter.viewOutput'>log</a> for further details."
     ]
    }
   ],
   "source": [
    "TableFlows(\n",
    "    dfs = [data_0, data_1, data_2],\n",
    "    label_suffix=True,\n",
    "    thousands_sep=False,\n",
    ").table"
   ]
  },
  {
   "cell_type": "code",
   "execution_count": null,
   "metadata": {},
   "outputs": [
    {
     "data": {
      "text/html": [
       "<div>\n",
       "<style scoped>\n",
       "    .dataframe tbody tr th:only-of-type {\n",
       "        vertical-align: middle;\n",
       "    }\n",
       "\n",
       "    .dataframe tbody tr th {\n",
       "        vertical-align: top;\n",
       "    }\n",
       "\n",
       "    .dataframe thead tr th {\n",
       "        text-align: left;\n",
       "    }\n",
       "\n",
       "    .dataframe thead tr:last-of-type th {\n",
       "        text-align: right;\n",
       "    }\n",
       "</style>\n",
       "<table border=\"1\" class=\"dataframe\">\n",
       "  <thead>\n",
       "    <tr>\n",
       "      <th></th>\n",
       "      <th></th>\n",
       "      <th colspan=\"3\" halign=\"left\">Cohort</th>\n",
       "    </tr>\n",
       "    <tr>\n",
       "      <th></th>\n",
       "      <th></th>\n",
       "      <th>0</th>\n",
       "      <th>1</th>\n",
       "      <th>2</th>\n",
       "    </tr>\n",
       "    <tr>\n",
       "      <th>Variable</th>\n",
       "      <th>Value</th>\n",
       "      <th></th>\n",
       "      <th></th>\n",
       "      <th></th>\n",
       "    </tr>\n",
       "  </thead>\n",
       "  <tbody>\n",
       "    <tr>\n",
       "      <th>Overall</th>\n",
       "      <th></th>\n",
       "      <td>100,000</td>\n",
       "      <td>50,022</td>\n",
       "      <td>46,148</td>\n",
       "    </tr>\n",
       "    <tr>\n",
       "      <th rowspan=\"5\" valign=\"top\">Race and Ethnicity, N (%)</th>\n",
       "      <th>Hispanic</th>\n",
       "      <td>20,024 (20.0)</td>\n",
       "      <td>10,011 (20.0)</td>\n",
       "      <td>9,197 (19.9)</td>\n",
       "    </tr>\n",
       "    <tr>\n",
       "      <th>Asian</th>\n",
       "      <td>19,952 (20.0)</td>\n",
       "      <td>9,918 (19.8)</td>\n",
       "      <td>9,145 (19.8)</td>\n",
       "    </tr>\n",
       "    <tr>\n",
       "      <th>Black</th>\n",
       "      <td>20,066 (20.1)</td>\n",
       "      <td>10,088 (20.2)</td>\n",
       "      <td>9,323 (20.2)</td>\n",
       "    </tr>\n",
       "    <tr>\n",
       "      <th>White</th>\n",
       "      <td>19,931 (19.9)</td>\n",
       "      <td>9,978 (19.9)</td>\n",
       "      <td>9,218 (20.0)</td>\n",
       "    </tr>\n",
       "    <tr>\n",
       "      <th>Missing</th>\n",
       "      <td>20,027 (20.0)</td>\n",
       "      <td>10,027 (20.0)</td>\n",
       "      <td>9,265 (20.1)</td>\n",
       "    </tr>\n",
       "    <tr>\n",
       "      <th rowspan=\"3\" valign=\"top\">Sex, N (%)</th>\n",
       "      <th>Male</th>\n",
       "      <td>50,052 (50.1)</td>\n",
       "      <td>25,049 (50.1)</td>\n",
       "      <td>23,089 (50.0)</td>\n",
       "    </tr>\n",
       "    <tr>\n",
       "      <th>Female</th>\n",
       "      <td>49,948 (49.9)</td>\n",
       "      <td>24,973 (49.9)</td>\n",
       "      <td>23,059 (50.0)</td>\n",
       "    </tr>\n",
       "    <tr>\n",
       "      <th>Missing</th>\n",
       "      <td>0 (0.0)</td>\n",
       "      <td>0 (0.0)</td>\n",
       "      <td>0 (0.0)</td>\n",
       "    </tr>\n",
       "    <tr>\n",
       "      <th rowspan=\"3\" valign=\"top\">English Proficiency, N (%)</th>\n",
       "      <th>Fluent</th>\n",
       "      <td>25,134 (25.1)</td>\n",
       "      <td>25,134 (50.2)</td>\n",
       "      <td>23,223 (50.3)</td>\n",
       "    </tr>\n",
       "    <tr>\n",
       "      <th>Limited</th>\n",
       "      <td>24,888 (24.9)</td>\n",
       "      <td>24,888 (49.8)</td>\n",
       "      <td>22,925 (49.7)</td>\n",
       "    </tr>\n",
       "    <tr>\n",
       "      <th>Missing</th>\n",
       "      <td>49,978 (50.0)</td>\n",
       "      <td>0 (0.0)</td>\n",
       "      <td>0 (0.0)</td>\n",
       "    </tr>\n",
       "    <tr>\n",
       "      <th rowspan=\"2\" valign=\"top\">Age, Mean</th>\n",
       "      <th></th>\n",
       "      <td>48.5</td>\n",
       "      <td>48.5</td>\n",
       "      <td>48.5</td>\n",
       "    </tr>\n",
       "    <tr>\n",
       "      <th>Missing</th>\n",
       "      <td>0 (0.0)</td>\n",
       "      <td>0 (0.0)</td>\n",
       "      <td>0 (0.0)</td>\n",
       "    </tr>\n",
       "    <tr>\n",
       "      <th rowspan=\"2\" valign=\"top\">SOFA, Median [IQR]</th>\n",
       "      <th></th>\n",
       "      <td>6.0 [3.0, 9.0]</td>\n",
       "      <td>6.0 [3.0, 9.0]</td>\n",
       "      <td>6.0 [3.0, 9.0]</td>\n",
       "    </tr>\n",
       "    <tr>\n",
       "      <th>Missing</th>\n",
       "      <td>7,812 (7.8)</td>\n",
       "      <td>3,874 (7.7)</td>\n",
       "      <td>0 (0.0)</td>\n",
       "    </tr>\n",
       "  </tbody>\n",
       "</table>\n",
       "</div>"
      ],
      "text/plain": [
       "                                             Cohort                  \\\n",
       "                                                  0               1   \n",
       "Variable                   Value                                      \n",
       "Overall                                     100,000          50,022   \n",
       "Race and Ethnicity, N (%)  Hispanic   20,024 (20.0)   10,011 (20.0)   \n",
       "                           Asian      19,952 (20.0)    9,918 (19.8)   \n",
       "                           Black      20,066 (20.1)   10,088 (20.2)   \n",
       "                           White      19,931 (19.9)    9,978 (19.9)   \n",
       "                           Missing    20,027 (20.0)   10,027 (20.0)   \n",
       "Sex, N (%)                 Male       50,052 (50.1)   25,049 (50.1)   \n",
       "                           Female     49,948 (49.9)   24,973 (49.9)   \n",
       "                           Missing          0 (0.0)         0 (0.0)   \n",
       "English Proficiency, N (%) Fluent     25,134 (25.1)   25,134 (50.2)   \n",
       "                           Limited    24,888 (24.9)   24,888 (49.8)   \n",
       "                           Missing    49,978 (50.0)         0 (0.0)   \n",
       "Age, Mean                                      48.5            48.5   \n",
       "                           Missing          0 (0.0)         0 (0.0)   \n",
       "SOFA, Median [IQR]                   6.0 [3.0, 9.0]  6.0 [3.0, 9.0]   \n",
       "                           Missing      7,812 (7.8)     3,874 (7.7)   \n",
       "\n",
       "                                                     \n",
       "                                                  2  \n",
       "Variable                   Value                     \n",
       "Overall                                      46,148  \n",
       "Race and Ethnicity, N (%)  Hispanic    9,197 (19.9)  \n",
       "                           Asian       9,145 (19.8)  \n",
       "                           Black       9,323 (20.2)  \n",
       "                           White       9,218 (20.0)  \n",
       "                           Missing     9,265 (20.1)  \n",
       "Sex, N (%)                 Male       23,089 (50.0)  \n",
       "                           Female     23,059 (50.0)  \n",
       "                           Missing          0 (0.0)  \n",
       "English Proficiency, N (%) Fluent     23,223 (50.3)  \n",
       "                           Limited    22,925 (49.7)  \n",
       "                           Missing          0 (0.0)  \n",
       "Age, Mean                                      48.5  \n",
       "                           Missing          0 (0.0)  \n",
       "SOFA, Median [IQR]                   6.0 [3.0, 9.0]  \n",
       "                           Missing          0 (0.0)  "
      ]
     },
     "execution_count": 6,
     "metadata": {},
     "output_type": "execute_result"
    },
    {
     "ename": "",
     "evalue": "",
     "output_type": "error",
     "traceback": [
      "\u001b[1;31mnotebook controller is DISPOSED. \n",
      "\u001b[1;31mView Jupyter <a href='command:jupyter.viewOutput'>log</a> for further details."
     ]
    },
    {
     "ename": "",
     "evalue": "",
     "output_type": "error",
     "traceback": [
      "\u001b[1;31mnotebook controller is DISPOSED. \n",
      "\u001b[1;31mView Jupyter <a href='command:jupyter.viewOutput'>log</a> for further details."
     ]
    },
    {
     "ename": "",
     "evalue": "",
     "output_type": "error",
     "traceback": [
      "\u001b[1;31mnotebook controller is DISPOSED. \n",
      "\u001b[1;31mView Jupyter <a href='command:jupyter.viewOutput'>log</a> for further details."
     ]
    },
    {
     "ename": "",
     "evalue": "",
     "output_type": "error",
     "traceback": [
      "\u001b[1;31mnotebook controller is DISPOSED. \n",
      "\u001b[1;31mView Jupyter <a href='command:jupyter.viewOutput'>log</a> for further details."
     ]
    },
    {
     "ename": "",
     "evalue": "",
     "output_type": "error",
     "traceback": [
      "\u001b[1;31mnotebook controller is DISPOSED. \n",
      "\u001b[1;31mView Jupyter <a href='command:jupyter.viewOutput'>log</a> for further details."
     ]
    },
    {
     "ename": "",
     "evalue": "",
     "output_type": "error",
     "traceback": [
      "\u001b[1;31mnotebook controller is DISPOSED. \n",
      "\u001b[1;31mView Jupyter <a href='command:jupyter.viewOutput'>log</a> for further details."
     ]
    }
   ],
   "source": [
    "TableCharacteristics(\n",
    "    dfs = [data_0, data_1, data_2],\n",
    "    # categorical = [], # currently not supported\n",
    "    categorical = ['race','sex', 'english'],\n",
    "    nonnormal = ['sofa'],\n",
    "    normal = ['age'],\n",
    "    # nonnormal = [],\n",
    "    # normal = [],\n",
    "    format_cat = 'N (%)',\n",
    "    # format_cont = 'Mean ± SD',\n",
    "    format_normal = 'Mean',\n",
    "    format_nonnormal='Median [IQR]',\n",
    "    missingness = True,\n",
    "    decimals = 1,\n",
    "    label_suffix = True,\n",
    "    thousands_sep = True,\n",
    "    rename={'race': 'Race and Ethnicity',\n",
    "            'english': 'English Proficiency',\n",
    "            'sex':'Sex',\n",
    "            'sofa': 'SOFA',\n",
    "            'age': 'Age',  \n",
    "            }\n",
    ").table"
   ]
  },
  {
   "cell_type": "code",
   "execution_count": null,
   "metadata": {},
   "outputs": [
    {
     "data": {
      "text/html": [
       "<div>\n",
       "<style scoped>\n",
       "    .dataframe tbody tr th:only-of-type {\n",
       "        vertical-align: middle;\n",
       "    }\n",
       "\n",
       "    .dataframe tbody tr th {\n",
       "        vertical-align: top;\n",
       "    }\n",
       "\n",
       "    .dataframe thead th {\n",
       "        text-align: right;\n",
       "    }\n",
       "</style>\n",
       "<table border=\"1\" class=\"dataframe\">\n",
       "  <thead>\n",
       "    <tr style=\"text-align: right;\">\n",
       "      <th></th>\n",
       "      <th>Cohort Flow</th>\n",
       "      <th>0 to 1</th>\n",
       "      <th>1 to 2</th>\n",
       "    </tr>\n",
       "    <tr>\n",
       "      <th>Variable</th>\n",
       "      <th>Value</th>\n",
       "      <th></th>\n",
       "      <th></th>\n",
       "    </tr>\n",
       "  </thead>\n",
       "  <tbody>\n",
       "    <tr>\n",
       "      <th>Overall</th>\n",
       "      <th></th>\n",
       "      <td></td>\n",
       "      <td></td>\n",
       "    </tr>\n",
       "    <tr>\n",
       "      <th rowspan=\"4\" valign=\"top\">Race and Ethnicity</th>\n",
       "      <th>Hispanic</th>\n",
       "      <td>0.0</td>\n",
       "      <td>0.002</td>\n",
       "    </tr>\n",
       "    <tr>\n",
       "      <th>Asian</th>\n",
       "      <td>0.003</td>\n",
       "      <td>0.0</td>\n",
       "    </tr>\n",
       "    <tr>\n",
       "      <th>Black</th>\n",
       "      <td>0.003</td>\n",
       "      <td>0.001</td>\n",
       "    </tr>\n",
       "    <tr>\n",
       "      <th>White</th>\n",
       "      <td>0.0</td>\n",
       "      <td>0.001</td>\n",
       "    </tr>\n",
       "    <tr>\n",
       "      <th rowspan=\"2\" valign=\"top\">Sex</th>\n",
       "      <th>Male</th>\n",
       "      <td>0.0</td>\n",
       "      <td>0.001</td>\n",
       "    </tr>\n",
       "    <tr>\n",
       "      <th>Female</th>\n",
       "      <td>0.0</td>\n",
       "      <td>0.001</td>\n",
       "    </tr>\n",
       "    <tr>\n",
       "      <th rowspan=\"2\" valign=\"top\">English Proficiency</th>\n",
       "      <th>Fluent</th>\n",
       "      <td>0.537</td>\n",
       "      <td>0.002</td>\n",
       "    </tr>\n",
       "    <tr>\n",
       "      <th>Limited</th>\n",
       "      <td>0.532</td>\n",
       "      <td>0.002</td>\n",
       "    </tr>\n",
       "  </tbody>\n",
       "</table>\n",
       "</div>"
      ],
      "text/plain": [
       "Cohort Flow                  0 to 1 1 to 2\n",
       "Variable            Value                 \n",
       "Overall                                   \n",
       "Race and Ethnicity  Hispanic    0.0  0.002\n",
       "                    Asian     0.003    0.0\n",
       "                    Black     0.003  0.001\n",
       "                    White       0.0  0.001\n",
       "Sex                 Male        0.0  0.001\n",
       "                    Female      0.0  0.001\n",
       "English Proficiency Fluent    0.537  0.002\n",
       "                    Limited   0.532  0.002"
      ]
     },
     "execution_count": 7,
     "metadata": {},
     "output_type": "execute_result"
    },
    {
     "ename": "",
     "evalue": "",
     "output_type": "error",
     "traceback": [
      "\u001b[1;31mnotebook controller is DISPOSED. \n",
      "\u001b[1;31mView Jupyter <a href='command:jupyter.viewOutput'>log</a> for further details."
     ]
    },
    {
     "ename": "",
     "evalue": "",
     "output_type": "error",
     "traceback": [
      "\u001b[1;31mnotebook controller is DISPOSED. \n",
      "\u001b[1;31mView Jupyter <a href='command:jupyter.viewOutput'>log</a> for further details."
     ]
    },
    {
     "ename": "",
     "evalue": "",
     "output_type": "error",
     "traceback": [
      "\u001b[1;31mnotebook controller is DISPOSED. \n",
      "\u001b[1;31mView Jupyter <a href='command:jupyter.viewOutput'>log</a> for further details."
     ]
    },
    {
     "ename": "",
     "evalue": "",
     "output_type": "error",
     "traceback": [
      "\u001b[1;31mnotebook controller is DISPOSED. \n",
      "\u001b[1;31mView Jupyter <a href='command:jupyter.viewOutput'>log</a> for further details."
     ]
    },
    {
     "ename": "",
     "evalue": "",
     "output_type": "error",
     "traceback": [
      "\u001b[1;31mnotebook controller is DISPOSED. \n",
      "\u001b[1;31mView Jupyter <a href='command:jupyter.viewOutput'>log</a> for further details."
     ]
    },
    {
     "ename": "",
     "evalue": "",
     "output_type": "error",
     "traceback": [
      "\u001b[1;31mnotebook controller is DISPOSED. \n",
      "\u001b[1;31mView Jupyter <a href='command:jupyter.viewOutput'>log</a> for further details."
     ]
    }
   ],
   "source": [
    "TableDrifts(\n",
    "    dfs=[data_0, data_1, data_2],\n",
    "    categorical = ['race','sex', 'english'],\n",
    "    # categorical=[],\n",
    "    # nonnormal = ['sofa'],\n",
    "    # normal = ['age'],\n",
    "    nonnormal = [],\n",
    "    normal = [],\n",
    "    # missingness = True,\n",
    "    decimals = 3,\n",
    "    # label_suffix = True,\n",
    "    # thousands_sep = False,\n",
    "    rename={'race': 'Race and Ethnicity',\n",
    "            'english': 'English Proficiency',\n",
    "            'sex':'Sex',\n",
    "            'sofa': 'SOFA',\n",
    "            'age': 'Age',  \n",
    "            }\n",
    ").table"
   ]
  },
  {
   "cell_type": "code",
   "execution_count": null,
   "metadata": {},
   "outputs": [
    {
     "ename": "",
     "evalue": "",
     "output_type": "error",
     "traceback": [
      "\u001b[1;31mnotebook controller is DISPOSED. \n",
      "\u001b[1;31mView Jupyter <a href='command:jupyter.viewOutput'>log</a> for further details."
     ]
    },
    {
     "ename": "",
     "evalue": "",
     "output_type": "error",
     "traceback": [
      "\u001b[1;31mnotebook controller is DISPOSED. \n",
      "\u001b[1;31mView Jupyter <a href='command:jupyter.viewOutput'>log</a> for further details."
     ]
    },
    {
     "ename": "",
     "evalue": "",
     "output_type": "error",
     "traceback": [
      "\u001b[1;31mnotebook controller is DISPOSED. \n",
      "\u001b[1;31mView Jupyter <a href='command:jupyter.viewOutput'>log</a> for further details."
     ]
    },
    {
     "ename": "",
     "evalue": "",
     "output_type": "error",
     "traceback": [
      "\u001b[1;31mnotebook controller is DISPOSED. \n",
      "\u001b[1;31mView Jupyter <a href='command:jupyter.viewOutput'>log</a> for further details."
     ]
    },
    {
     "ename": "",
     "evalue": "",
     "output_type": "error",
     "traceback": [
      "\u001b[1;31mnotebook controller is DISPOSED. \n",
      "\u001b[1;31mView Jupyter <a href='command:jupyter.viewOutput'>log</a> for further details."
     ]
    },
    {
     "ename": "",
     "evalue": "",
     "output_type": "error",
     "traceback": [
      "\u001b[1;31mnotebook controller is DISPOSED. \n",
      "\u001b[1;31mView Jupyter <a href='command:jupyter.viewOutput'>log</a> for further details."
     ]
    }
   ],
   "source": []
  }
 ],
 "metadata": {
  "kernelspec": {
   "display_name": "ml",
   "language": "python",
   "name": "python3"
  },
  "language_info": {
   "codemirror_mode": {
    "name": "ipython",
    "version": 3
   },
   "file_extension": ".py",
   "mimetype": "text/x-python",
   "name": "python",
   "nbconvert_exporter": "python",
   "pygments_lexer": "ipython3",
   "version": "3.12.2"
  }
 },
 "nbformat": 4,
 "nbformat_minor": 2
}
