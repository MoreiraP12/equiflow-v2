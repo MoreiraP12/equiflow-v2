{
 "cells": [
  {
   "cell_type": "code",
   "execution_count": 1,
   "metadata": {},
   "outputs": [],
   "source": [
    "import numpy as np\n",
    "import pandas as pd\n",
    "from equiflow import EquiFlow"
   ]
  },
  {
   "cell_type": "code",
   "execution_count": 2,
   "metadata": {},
   "outputs": [],
   "source": [
    "np.random.seed(42)\n",
    "n = 100000\n",
    "data = {\n",
    "    'age': np.random.randint(18, 80, size=n),\n",
    "    'sofa': np.random.choice([0,1,2,3,4,5,6,7,8,9,10,15, np.nan], size=n),\n",
    "    'race': np.random.choice(['White', 'Black', 'Asian', 'Hispanic', None],\n",
    "                             size=n),\n",
    "    'sex': np.random.choice(['Male', 'Female'], size=n),\n",
    "    'english': np.random.choice(['Fluent', 'Limited', np.nan, None], size=n),\n",
    "}\n",
    "\n",
    "for i in range(1, 11):\n",
    "    data[f'var{i}'] = np.random.randn(n)\n",
    "\n",
    "df = pd.DataFrame(data)"
   ]
  },
  {
   "cell_type": "code",
   "execution_count": 3,
   "metadata": {},
   "outputs": [],
   "source": [
    "data_0 = df.copy()\n",
    "data_1 = data_0.loc[data_0.english.notnull()]\n",
    "data_2 = data_1.loc[data_1.sofa.notnull()]\n",
    "\n",
    "ef = EquiFlow(dfs = [data_0, data_1, data_2])\n",
    "\n"
   ]
  },
  {
   "cell_type": "code",
   "execution_count": 4,
   "metadata": {},
   "outputs": [
    {
     "data": {
      "text/html": [
       "<div>\n",
       "<style scoped>\n",
       "    .dataframe tbody tr th:only-of-type {\n",
       "        vertical-align: middle;\n",
       "    }\n",
       "\n",
       "    .dataframe tbody tr th {\n",
       "        vertical-align: top;\n",
       "    }\n",
       "\n",
       "    .dataframe thead th {\n",
       "        text-align: right;\n",
       "    }\n",
       "</style>\n",
       "<table border=\"1\" class=\"dataframe\">\n",
       "  <thead>\n",
       "    <tr style=\"text-align: right;\">\n",
       "      <th>Cohort Flow</th>\n",
       "      <th>0 to 1</th>\n",
       "      <th>1 to 2</th>\n",
       "    </tr>\n",
       "    <tr>\n",
       "      <th></th>\n",
       "      <th></th>\n",
       "      <th></th>\n",
       "    </tr>\n",
       "  </thead>\n",
       "  <tbody>\n",
       "    <tr>\n",
       "      <th>Inital, n</th>\n",
       "      <td>100,000</td>\n",
       "      <td>50,022</td>\n",
       "    </tr>\n",
       "    <tr>\n",
       "      <th>Removed, n</th>\n",
       "      <td>49,978</td>\n",
       "      <td>3,874</td>\n",
       "    </tr>\n",
       "    <tr>\n",
       "      <th>Result, n</th>\n",
       "      <td>50,022</td>\n",
       "      <td>46,148</td>\n",
       "    </tr>\n",
       "  </tbody>\n",
       "</table>\n",
       "</div>"
      ],
      "text/plain": [
       "Cohort Flow   0 to 1  1 to 2\n",
       "                            \n",
       "Inital, n    100,000  50,022\n",
       "Removed, n    49,978   3,874\n",
       "Result, n     50,022  46,148"
      ]
     },
     "execution_count": 4,
     "metadata": {},
     "output_type": "execute_result"
    }
   ],
   "source": [
    "ef.table_flows(\n",
    "    label_suffix=True\n",
    ")"
   ]
  },
  {
   "cell_type": "code",
   "execution_count": 5,
   "metadata": {},
   "outputs": [
    {
     "data": {
      "text/html": [
       "<div>\n",
       "<style scoped>\n",
       "    .dataframe tbody tr th:only-of-type {\n",
       "        vertical-align: middle;\n",
       "    }\n",
       "\n",
       "    .dataframe tbody tr th {\n",
       "        vertical-align: top;\n",
       "    }\n",
       "\n",
       "    .dataframe thead tr th {\n",
       "        text-align: left;\n",
       "    }\n",
       "\n",
       "    .dataframe thead tr:last-of-type th {\n",
       "        text-align: right;\n",
       "    }\n",
       "</style>\n",
       "<table border=\"1\" class=\"dataframe\">\n",
       "  <thead>\n",
       "    <tr>\n",
       "      <th></th>\n",
       "      <th></th>\n",
       "      <th colspan=\"3\" halign=\"left\">Cohort</th>\n",
       "    </tr>\n",
       "    <tr>\n",
       "      <th></th>\n",
       "      <th></th>\n",
       "      <th>0</th>\n",
       "      <th>1</th>\n",
       "      <th>2</th>\n",
       "    </tr>\n",
       "    <tr>\n",
       "      <th>Variable</th>\n",
       "      <th>Value</th>\n",
       "      <th></th>\n",
       "      <th></th>\n",
       "      <th></th>\n",
       "    </tr>\n",
       "  </thead>\n",
       "  <tbody>\n",
       "    <tr>\n",
       "      <th>Overall</th>\n",
       "      <th></th>\n",
       "      <td>100,000</td>\n",
       "      <td>50,022</td>\n",
       "      <td>46,148</td>\n",
       "    </tr>\n",
       "    <tr>\n",
       "      <th rowspan=\"5\" valign=\"top\">Race and Ethnicity, N (%)</th>\n",
       "      <th>Hispanic</th>\n",
       "      <td>20,024 (20.0)</td>\n",
       "      <td>10,011 (20.0)</td>\n",
       "      <td>9,197 (19.9)</td>\n",
       "    </tr>\n",
       "    <tr>\n",
       "      <th>Asian</th>\n",
       "      <td>19,952 (20.0)</td>\n",
       "      <td>9,918 (19.8)</td>\n",
       "      <td>9,145 (19.8)</td>\n",
       "    </tr>\n",
       "    <tr>\n",
       "      <th>Black</th>\n",
       "      <td>20,066 (20.1)</td>\n",
       "      <td>10,088 (20.2)</td>\n",
       "      <td>9,323 (20.2)</td>\n",
       "    </tr>\n",
       "    <tr>\n",
       "      <th>White</th>\n",
       "      <td>19,931 (19.9)</td>\n",
       "      <td>9,978 (19.9)</td>\n",
       "      <td>9,218 (20.0)</td>\n",
       "    </tr>\n",
       "    <tr>\n",
       "      <th>Missing</th>\n",
       "      <td>20,027 (20.0)</td>\n",
       "      <td>10,027 (20.0)</td>\n",
       "      <td>9,265 (20.1)</td>\n",
       "    </tr>\n",
       "    <tr>\n",
       "      <th rowspan=\"3\" valign=\"top\">Sex, N (%)</th>\n",
       "      <th>Male</th>\n",
       "      <td>50,052 (50.1)</td>\n",
       "      <td>25,049 (50.1)</td>\n",
       "      <td>23,089 (50.0)</td>\n",
       "    </tr>\n",
       "    <tr>\n",
       "      <th>Female</th>\n",
       "      <td>49,948 (49.9)</td>\n",
       "      <td>24,973 (49.9)</td>\n",
       "      <td>23,059 (50.0)</td>\n",
       "    </tr>\n",
       "    <tr>\n",
       "      <th>Missing</th>\n",
       "      <td>0 (0.0)</td>\n",
       "      <td>0 (0.0)</td>\n",
       "      <td>0 (0.0)</td>\n",
       "    </tr>\n",
       "    <tr>\n",
       "      <th rowspan=\"3\" valign=\"top\">English Proficiency, N (%)</th>\n",
       "      <th>Fluent</th>\n",
       "      <td>25,134 (25.1)</td>\n",
       "      <td>25,134 (50.2)</td>\n",
       "      <td>23,223 (50.3)</td>\n",
       "    </tr>\n",
       "    <tr>\n",
       "      <th>Limited</th>\n",
       "      <td>24,888 (24.9)</td>\n",
       "      <td>24,888 (49.8)</td>\n",
       "      <td>22,925 (49.7)</td>\n",
       "    </tr>\n",
       "    <tr>\n",
       "      <th>Missing</th>\n",
       "      <td>49,978 (50.0)</td>\n",
       "      <td>0 (0.0)</td>\n",
       "      <td>0 (0.0)</td>\n",
       "    </tr>\n",
       "    <tr>\n",
       "      <th rowspan=\"2\" valign=\"top\">Age, Mean ± SD</th>\n",
       "      <th></th>\n",
       "      <td>48.5 ± 17.9</td>\n",
       "      <td>48.5 ± 17.9</td>\n",
       "      <td>48.5 ± 17.9</td>\n",
       "    </tr>\n",
       "    <tr>\n",
       "      <th>Missing</th>\n",
       "      <td>0 (0.0)</td>\n",
       "      <td>0 (0.0)</td>\n",
       "      <td>0 (0.0)</td>\n",
       "    </tr>\n",
       "    <tr>\n",
       "      <th rowspan=\"2\" valign=\"top\">SOFA, Median [IQR]</th>\n",
       "      <th></th>\n",
       "      <td>6.0 [3.0, 9.0]</td>\n",
       "      <td>6.0 [3.0, 9.0]</td>\n",
       "      <td>6.0 [3.0, 9.0]</td>\n",
       "    </tr>\n",
       "    <tr>\n",
       "      <th>Missing</th>\n",
       "      <td>7,812 (7.8)</td>\n",
       "      <td>3,874 (7.7)</td>\n",
       "      <td>0 (0.0)</td>\n",
       "    </tr>\n",
       "  </tbody>\n",
       "</table>\n",
       "</div>"
      ],
      "text/plain": [
       "                                             Cohort                  \\\n",
       "                                                  0               1   \n",
       "Variable                   Value                                      \n",
       "Overall                                     100,000          50,022   \n",
       "Race and Ethnicity, N (%)  Hispanic   20,024 (20.0)   10,011 (20.0)   \n",
       "                           Asian      19,952 (20.0)    9,918 (19.8)   \n",
       "                           Black      20,066 (20.1)   10,088 (20.2)   \n",
       "                           White      19,931 (19.9)    9,978 (19.9)   \n",
       "                           Missing    20,027 (20.0)   10,027 (20.0)   \n",
       "Sex, N (%)                 Male       50,052 (50.1)   25,049 (50.1)   \n",
       "                           Female     49,948 (49.9)   24,973 (49.9)   \n",
       "                           Missing          0 (0.0)         0 (0.0)   \n",
       "English Proficiency, N (%) Fluent     25,134 (25.1)   25,134 (50.2)   \n",
       "                           Limited    24,888 (24.9)   24,888 (49.8)   \n",
       "                           Missing    49,978 (50.0)         0 (0.0)   \n",
       "Age, Mean ± SD                          48.5 ± 17.9     48.5 ± 17.9   \n",
       "                           Missing          0 (0.0)         0 (0.0)   \n",
       "SOFA, Median [IQR]                   6.0 [3.0, 9.0]  6.0 [3.0, 9.0]   \n",
       "                           Missing      7,812 (7.8)     3,874 (7.7)   \n",
       "\n",
       "                                                     \n",
       "                                                  2  \n",
       "Variable                   Value                     \n",
       "Overall                                      46,148  \n",
       "Race and Ethnicity, N (%)  Hispanic    9,197 (19.9)  \n",
       "                           Asian       9,145 (19.8)  \n",
       "                           Black       9,323 (20.2)  \n",
       "                           White       9,218 (20.0)  \n",
       "                           Missing     9,265 (20.1)  \n",
       "Sex, N (%)                 Male       23,089 (50.0)  \n",
       "                           Female     23,059 (50.0)  \n",
       "                           Missing          0 (0.0)  \n",
       "English Proficiency, N (%) Fluent     23,223 (50.3)  \n",
       "                           Limited    22,925 (49.7)  \n",
       "                           Missing          0 (0.0)  \n",
       "Age, Mean ± SD                          48.5 ± 17.9  \n",
       "                           Missing          0 (0.0)  \n",
       "SOFA, Median [IQR]                   6.0 [3.0, 9.0]  \n",
       "                           Missing          0 (0.0)  "
      ]
     },
     "metadata": {},
     "output_type": "display_data"
    }
   ],
   "source": [
    "t = ef.table_characteristics(\n",
    "    categorical = ['race','sex', 'english'],\n",
    "    nonnormal = ['sofa'],\n",
    "    normal = ['age'],\n",
    "    format = 'N (%)',\n",
    "    missingness = True,\n",
    "    decimals = 1,\n",
    "    label_suffix = True,\n",
    "    rename={'race': 'Race and Ethnicity',\n",
    "            'english': 'English Proficiency',\n",
    "            'sex':'Sex',\n",
    "            'sofa': 'SOFA',\n",
    "            'age': 'Age',  \n",
    "            }\n",
    ")\n",
    "display(t)"
   ]
  },
  {
   "cell_type": "code",
   "execution_count": 6,
   "metadata": {},
   "outputs": [
    {
     "data": {
      "text/plain": [
       "'50,052 (50.1)'"
      ]
     },
     "execution_count": 6,
     "metadata": {},
     "output_type": "execute_result"
    }
   ],
   "source": [
    "t.loc[('Sex, N (%)', 'Male'), ('Cohort',0)] "
   ]
  },
  {
   "cell_type": "code",
   "execution_count": 7,
   "metadata": {},
   "outputs": [
    {
     "data": {
      "text/plain": [
       "'25,049 (50.1)'"
      ]
     },
     "execution_count": 7,
     "metadata": {},
     "output_type": "execute_result"
    }
   ],
   "source": [
    "t.loc[('Sex, N (%)', 'Male'), ('Cohort',1)] \n"
   ]
  },
  {
   "cell_type": "code",
   "execution_count": null,
   "metadata": {},
   "outputs": [],
   "source": []
  },
  {
   "cell_type": "code",
   "execution_count": 8,
   "metadata": {},
   "outputs": [
    {
     "ename": "NameError",
     "evalue": "name 'cat_smd' is not defined",
     "output_type": "error",
     "traceback": [
      "\u001b[0;31m---------------------------------------------------------------------------\u001b[0m",
      "\u001b[0;31mNameError\u001b[0m                                 Traceback (most recent call last)",
      "Cell \u001b[0;32mIn[8], line 1\u001b[0m\n\u001b[0;32m----> 1\u001b[0m cat_smd(prop1\u001b[38;5;241m=\u001b[39m[\u001b[38;5;241m0.49\u001b[39m], prop2\u001b[38;5;241m=\u001b[39m[\u001b[38;5;241m0.39\u001b[39m], n1\u001b[38;5;241m=\u001b[39m\u001b[38;5;241m500\u001b[39m, n2\u001b[38;5;241m=\u001b[39m\u001b[38;5;241m300\u001b[39m,\n\u001b[1;32m      2\u001b[0m                 unbiased\u001b[38;5;241m=\u001b[39m\u001b[38;5;28;01mFalse\u001b[39;00m)\n",
      "\u001b[0;31mNameError\u001b[0m: name 'cat_smd' is not defined"
     ]
    }
   ],
   "source": [
    "cat_smd(prop1=[0.49], prop2=[0.39], n1=500, n2=300,\n",
    "                unbiased=False)"
   ]
  },
  {
   "cell_type": "code",
   "execution_count": null,
   "metadata": {},
   "outputs": [
    {
     "data": {
      "text/plain": [
       "[]"
      ]
     },
     "execution_count": 21,
     "metadata": {},
     "output_type": "execute_result"
    }
   ],
   "source": [
    "prop1 = [0.501]\n",
    "prop1[1:]"
   ]
  },
  {
   "cell_type": "code",
   "execution_count": null,
   "metadata": {},
   "outputs": [],
   "source": []
  }
 ],
 "metadata": {
  "kernelspec": {
   "display_name": "ml",
   "language": "python",
   "name": "python3"
  },
  "language_info": {
   "codemirror_mode": {
    "name": "ipython",
    "version": 3
   },
   "file_extension": ".py",
   "mimetype": "text/x-python",
   "name": "python",
   "nbconvert_exporter": "python",
   "pygments_lexer": "ipython3",
   "version": "3.12.2"
  }
 },
 "nbformat": 4,
 "nbformat_minor": 2
}
