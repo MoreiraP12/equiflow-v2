{
 "cells": [
  {
   "cell_type": "code",
   "execution_count": 1,
   "metadata": {},
   "outputs": [],
   "source": [
    "import numpy as np\n",
    "import pandas as pd\n",
    "from equiflow import EquiFlow"
   ]
  },
  {
   "cell_type": "code",
   "execution_count": 2,
   "metadata": {},
   "outputs": [],
   "source": [
    "np.random.seed(42)\n",
    "n = 100000\n",
    "data = {\n",
    "    'age': np.random.randint(18, 80, size=n),\n",
    "    'sofa': np.random.choice([0,1,2,3,4,5,6,7,8,9,10,15, np.nan], size=n),\n",
    "    'race': np.random.choice(['White', 'Black', 'Asian', 'Hispanic', None],\n",
    "                             size=n),\n",
    "    'sex': np.random.choice(['Male', 'Female'], size=n),\n",
    "    'english': np.random.choice(['Fluent', 'Limited', np.nan, None], size=n),\n",
    "}\n",
    "\n",
    "for i in range(1, 11):\n",
    "    data[f'var{i}'] = np.random.randn(n)\n",
    "\n",
    "df = pd.DataFrame(data)"
   ]
  },
  {
   "cell_type": "code",
   "execution_count": 3,
   "metadata": {},
   "outputs": [],
   "source": [
    "data_0 = df.copy()\n",
    "data_1 = data_0.loc[data_0.english.notnull()]\n",
    "data_2 = data_1.loc[data_1.sofa.notnull()]\n",
    "\n",
    "ef = EquiFlow(dfs = [data_0, data_1, data_2])\n",
    "\n"
   ]
  },
  {
   "cell_type": "code",
   "execution_count": 4,
   "metadata": {},
   "outputs": [
    {
     "data": {
      "text/html": [
       "<div>\n",
       "<style scoped>\n",
       "    .dataframe tbody tr th:only-of-type {\n",
       "        vertical-align: middle;\n",
       "    }\n",
       "\n",
       "    .dataframe tbody tr th {\n",
       "        vertical-align: top;\n",
       "    }\n",
       "\n",
       "    .dataframe thead th {\n",
       "        text-align: right;\n",
       "    }\n",
       "</style>\n",
       "<table border=\"1\" class=\"dataframe\">\n",
       "  <thead>\n",
       "    <tr style=\"text-align: right;\">\n",
       "      <th>Cohort Flow</th>\n",
       "      <th>0 to 1</th>\n",
       "      <th>1 to 2</th>\n",
       "    </tr>\n",
       "    <tr>\n",
       "      <th></th>\n",
       "      <th></th>\n",
       "      <th></th>\n",
       "    </tr>\n",
       "  </thead>\n",
       "  <tbody>\n",
       "    <tr>\n",
       "      <th>Inital, n</th>\n",
       "      <td>100,000</td>\n",
       "      <td>50,022</td>\n",
       "    </tr>\n",
       "    <tr>\n",
       "      <th>Removed, n</th>\n",
       "      <td>49,978</td>\n",
       "      <td>3,874</td>\n",
       "    </tr>\n",
       "    <tr>\n",
       "      <th>Result, n</th>\n",
       "      <td>50,022</td>\n",
       "      <td>46,148</td>\n",
       "    </tr>\n",
       "  </tbody>\n",
       "</table>\n",
       "</div>"
      ],
      "text/plain": [
       "Cohort Flow   0 to 1  1 to 2\n",
       "                            \n",
       "Inital, n    100,000  50,022\n",
       "Removed, n    49,978   3,874\n",
       "Result, n     50,022  46,148"
      ]
     },
     "execution_count": 4,
     "metadata": {},
     "output_type": "execute_result"
    }
   ],
   "source": [
    "ef.table_flows(\n",
    "    label_suffix=True,\n",
    "    thousands_sep=True,\n",
    ")"
   ]
  },
  {
   "cell_type": "code",
   "execution_count": 10,
   "metadata": {},
   "outputs": [
    {
     "data": {
      "text/html": [
       "<div>\n",
       "<style scoped>\n",
       "    .dataframe tbody tr th:only-of-type {\n",
       "        vertical-align: middle;\n",
       "    }\n",
       "\n",
       "    .dataframe tbody tr th {\n",
       "        vertical-align: top;\n",
       "    }\n",
       "\n",
       "    .dataframe thead tr th {\n",
       "        text-align: left;\n",
       "    }\n",
       "\n",
       "    .dataframe thead tr:last-of-type th {\n",
       "        text-align: right;\n",
       "    }\n",
       "</style>\n",
       "<table border=\"1\" class=\"dataframe\">\n",
       "  <thead>\n",
       "    <tr>\n",
       "      <th></th>\n",
       "      <th></th>\n",
       "      <th colspan=\"3\" halign=\"left\">Cohort</th>\n",
       "    </tr>\n",
       "    <tr>\n",
       "      <th></th>\n",
       "      <th></th>\n",
       "      <th>0</th>\n",
       "      <th>1</th>\n",
       "      <th>2</th>\n",
       "    </tr>\n",
       "    <tr>\n",
       "      <th>Variable</th>\n",
       "      <th>Value</th>\n",
       "      <th></th>\n",
       "      <th></th>\n",
       "      <th></th>\n",
       "    </tr>\n",
       "  </thead>\n",
       "  <tbody>\n",
       "    <tr>\n",
       "      <th>Overall</th>\n",
       "      <th></th>\n",
       "      <td>100000</td>\n",
       "      <td>50022</td>\n",
       "      <td>46148</td>\n",
       "    </tr>\n",
       "    <tr>\n",
       "      <th rowspan=\"5\" valign=\"top\">Race and Ethnicity, N (%)</th>\n",
       "      <th>Hispanic</th>\n",
       "      <td>20024 (20.0)</td>\n",
       "      <td>10011 (20.0)</td>\n",
       "      <td>9197 (19.9)</td>\n",
       "    </tr>\n",
       "    <tr>\n",
       "      <th>Asian</th>\n",
       "      <td>19952 (20.0)</td>\n",
       "      <td>9918 (19.8)</td>\n",
       "      <td>9145 (19.8)</td>\n",
       "    </tr>\n",
       "    <tr>\n",
       "      <th>Black</th>\n",
       "      <td>20066 (20.1)</td>\n",
       "      <td>10088 (20.2)</td>\n",
       "      <td>9323 (20.2)</td>\n",
       "    </tr>\n",
       "    <tr>\n",
       "      <th>White</th>\n",
       "      <td>19931 (19.9)</td>\n",
       "      <td>9978 (19.9)</td>\n",
       "      <td>9218 (20.0)</td>\n",
       "    </tr>\n",
       "    <tr>\n",
       "      <th>Missing</th>\n",
       "      <td>20027 (20.0)</td>\n",
       "      <td>10027 (20.0)</td>\n",
       "      <td>9265 (20.1)</td>\n",
       "    </tr>\n",
       "    <tr>\n",
       "      <th rowspan=\"3\" valign=\"top\">Sex, N (%)</th>\n",
       "      <th>Male</th>\n",
       "      <td>50052 (50.1)</td>\n",
       "      <td>25049 (50.1)</td>\n",
       "      <td>23089 (50.0)</td>\n",
       "    </tr>\n",
       "    <tr>\n",
       "      <th>Female</th>\n",
       "      <td>49948 (49.9)</td>\n",
       "      <td>24973 (49.9)</td>\n",
       "      <td>23059 (50.0)</td>\n",
       "    </tr>\n",
       "    <tr>\n",
       "      <th>Missing</th>\n",
       "      <td>0 (0.0)</td>\n",
       "      <td>0 (0.0)</td>\n",
       "      <td>0 (0.0)</td>\n",
       "    </tr>\n",
       "    <tr>\n",
       "      <th rowspan=\"3\" valign=\"top\">English Proficiency, N (%)</th>\n",
       "      <th>Fluent</th>\n",
       "      <td>25134 (25.1)</td>\n",
       "      <td>25134 (50.2)</td>\n",
       "      <td>23223 (50.3)</td>\n",
       "    </tr>\n",
       "    <tr>\n",
       "      <th>Limited</th>\n",
       "      <td>24888 (24.9)</td>\n",
       "      <td>24888 (49.8)</td>\n",
       "      <td>22925 (49.7)</td>\n",
       "    </tr>\n",
       "    <tr>\n",
       "      <th>Missing</th>\n",
       "      <td>49978 (50.0)</td>\n",
       "      <td>0 (0.0)</td>\n",
       "      <td>0 (0.0)</td>\n",
       "    </tr>\n",
       "    <tr>\n",
       "      <th rowspan=\"2\" valign=\"top\">Age, Mean ± SD</th>\n",
       "      <th></th>\n",
       "      <td>48.5 ± 17.9</td>\n",
       "      <td>48.5 ± 17.9</td>\n",
       "      <td>48.5 ± 17.9</td>\n",
       "    </tr>\n",
       "    <tr>\n",
       "      <th>Missing</th>\n",
       "      <td>0 (0.0)</td>\n",
       "      <td>0 (0.0)</td>\n",
       "      <td>0 (0.0)</td>\n",
       "    </tr>\n",
       "    <tr>\n",
       "      <th rowspan=\"2\" valign=\"top\">SOFA, Median [IQR]</th>\n",
       "      <th></th>\n",
       "      <td>6.0 [3.0, 9.0]</td>\n",
       "      <td>6.0 [3.0, 9.0]</td>\n",
       "      <td>6.0 [3.0, 9.0]</td>\n",
       "    </tr>\n",
       "    <tr>\n",
       "      <th>Missing</th>\n",
       "      <td>7812 (7.8)</td>\n",
       "      <td>3874 (7.7)</td>\n",
       "      <td>0 (0.0)</td>\n",
       "    </tr>\n",
       "  </tbody>\n",
       "</table>\n",
       "</div>"
      ],
      "text/plain": [
       "                                             Cohort                  \\\n",
       "                                                  0               1   \n",
       "Variable                   Value                                      \n",
       "Overall                                      100000           50022   \n",
       "Race and Ethnicity, N (%)  Hispanic    20024 (20.0)    10011 (20.0)   \n",
       "                           Asian       19952 (20.0)     9918 (19.8)   \n",
       "                           Black       20066 (20.1)    10088 (20.2)   \n",
       "                           White       19931 (19.9)     9978 (19.9)   \n",
       "                           Missing     20027 (20.0)    10027 (20.0)   \n",
       "Sex, N (%)                 Male        50052 (50.1)    25049 (50.1)   \n",
       "                           Female      49948 (49.9)    24973 (49.9)   \n",
       "                           Missing          0 (0.0)         0 (0.0)   \n",
       "English Proficiency, N (%) Fluent      25134 (25.1)    25134 (50.2)   \n",
       "                           Limited     24888 (24.9)    24888 (49.8)   \n",
       "                           Missing     49978 (50.0)         0 (0.0)   \n",
       "Age, Mean ± SD                          48.5 ± 17.9     48.5 ± 17.9   \n",
       "                           Missing          0 (0.0)         0 (0.0)   \n",
       "SOFA, Median [IQR]                   6.0 [3.0, 9.0]  6.0 [3.0, 9.0]   \n",
       "                           Missing       7812 (7.8)      3874 (7.7)   \n",
       "\n",
       "                                                     \n",
       "                                                  2  \n",
       "Variable                   Value                     \n",
       "Overall                                       46148  \n",
       "Race and Ethnicity, N (%)  Hispanic     9197 (19.9)  \n",
       "                           Asian        9145 (19.8)  \n",
       "                           Black        9323 (20.2)  \n",
       "                           White        9218 (20.0)  \n",
       "                           Missing      9265 (20.1)  \n",
       "Sex, N (%)                 Male        23089 (50.0)  \n",
       "                           Female      23059 (50.0)  \n",
       "                           Missing          0 (0.0)  \n",
       "English Proficiency, N (%) Fluent      23223 (50.3)  \n",
       "                           Limited     22925 (49.7)  \n",
       "                           Missing          0 (0.0)  \n",
       "Age, Mean ± SD                          48.5 ± 17.9  \n",
       "                           Missing          0 (0.0)  \n",
       "SOFA, Median [IQR]                   6.0 [3.0, 9.0]  \n",
       "                           Missing          0 (0.0)  "
      ]
     },
     "metadata": {},
     "output_type": "display_data"
    }
   ],
   "source": [
    "t = ef.table_characteristics(\n",
    "    categorical = ['race','sex', 'english'],\n",
    "    nonnormal = ['sofa'],\n",
    "    normal = ['age'],\n",
    "    format_cat = 'N (%)',\n",
    "    format_cont = 'Mean ± SD',\n",
    "    missingness = True,\n",
    "    decimals = 1,\n",
    "    label_suffix = True,\n",
    "    thousands_sep = False,\n",
    "    rename={'race': 'Race and Ethnicity',\n",
    "            'english': 'English Proficiency',\n",
    "            'sex':'Sex',\n",
    "            'sofa': 'SOFA',\n",
    "            'age': 'Age',  \n",
    "            }\n",
    ")\n",
    "display(t)"
   ]
  },
  {
   "cell_type": "code",
   "execution_count": 6,
   "metadata": {},
   "outputs": [
    {
     "data": {
      "text/plain": [
       "'50052 (50.1)'"
      ]
     },
     "execution_count": 6,
     "metadata": {},
     "output_type": "execute_result"
    }
   ],
   "source": [
    "t.loc[('Sex, N (%)', 'Male'), ('Cohort',0)] "
   ]
  },
  {
   "cell_type": "code",
   "execution_count": 7,
   "metadata": {},
   "outputs": [
    {
     "data": {
      "text/plain": [
       "'25049 (50.1)'"
      ]
     },
     "execution_count": 7,
     "metadata": {},
     "output_type": "execute_result"
    }
   ],
   "source": [
    "t.loc[('Sex, N (%)', 'Male'), ('Cohort',1)] \n"
   ]
  },
  {
   "cell_type": "code",
   "execution_count": 8,
   "metadata": {},
   "outputs": [
    {
     "ename": "TypeError",
     "evalue": "BaseTable.__init__() got an unexpected keyword argument 'format'",
     "output_type": "error",
     "traceback": [
      "\u001b[0;31m---------------------------------------------------------------------------\u001b[0m",
      "\u001b[0;31mTypeError\u001b[0m                                 Traceback (most recent call last)",
      "Cell \u001b[0;32mIn[8], line 1\u001b[0m\n\u001b[0;32m----> 1\u001b[0m t \u001b[38;5;241m=\u001b[39m ef\u001b[38;5;241m.\u001b[39mtable_characteristics(\n\u001b[1;32m      2\u001b[0m     categorical \u001b[38;5;241m=\u001b[39m [\u001b[38;5;124m'\u001b[39m\u001b[38;5;124mrace\u001b[39m\u001b[38;5;124m'\u001b[39m,\u001b[38;5;124m'\u001b[39m\u001b[38;5;124msex\u001b[39m\u001b[38;5;124m'\u001b[39m, \u001b[38;5;124m'\u001b[39m\u001b[38;5;124menglish\u001b[39m\u001b[38;5;124m'\u001b[39m],\n\u001b[1;32m      3\u001b[0m     nonnormal \u001b[38;5;241m=\u001b[39m [\u001b[38;5;124m'\u001b[39m\u001b[38;5;124msofa\u001b[39m\u001b[38;5;124m'\u001b[39m],\n\u001b[1;32m      4\u001b[0m     normal \u001b[38;5;241m=\u001b[39m [\u001b[38;5;124m'\u001b[39m\u001b[38;5;124mage\u001b[39m\u001b[38;5;124m'\u001b[39m],\n\u001b[1;32m      5\u001b[0m     \u001b[38;5;28mformat\u001b[39m \u001b[38;5;241m=\u001b[39m \u001b[38;5;124m'\u001b[39m\u001b[38;5;124mN\u001b[39m\u001b[38;5;124m'\u001b[39m,\n\u001b[1;32m      6\u001b[0m     missingness \u001b[38;5;241m=\u001b[39m \u001b[38;5;28;01mTrue\u001b[39;00m,\n\u001b[1;32m      7\u001b[0m     decimals \u001b[38;5;241m=\u001b[39m \u001b[38;5;241m1\u001b[39m,\n\u001b[1;32m      8\u001b[0m     label_suffix \u001b[38;5;241m=\u001b[39m \u001b[38;5;28;01mTrue\u001b[39;00m,\n\u001b[1;32m      9\u001b[0m     rename\u001b[38;5;241m=\u001b[39m{\u001b[38;5;124m'\u001b[39m\u001b[38;5;124mrace\u001b[39m\u001b[38;5;124m'\u001b[39m: \u001b[38;5;124m'\u001b[39m\u001b[38;5;124mRace and Ethnicity\u001b[39m\u001b[38;5;124m'\u001b[39m,\n\u001b[1;32m     10\u001b[0m             \u001b[38;5;124m'\u001b[39m\u001b[38;5;124menglish\u001b[39m\u001b[38;5;124m'\u001b[39m: \u001b[38;5;124m'\u001b[39m\u001b[38;5;124mEnglish Proficiency\u001b[39m\u001b[38;5;124m'\u001b[39m,\n\u001b[1;32m     11\u001b[0m             \u001b[38;5;124m'\u001b[39m\u001b[38;5;124msex\u001b[39m\u001b[38;5;124m'\u001b[39m:\u001b[38;5;124m'\u001b[39m\u001b[38;5;124mSex\u001b[39m\u001b[38;5;124m'\u001b[39m,\n\u001b[1;32m     12\u001b[0m             \u001b[38;5;124m'\u001b[39m\u001b[38;5;124msofa\u001b[39m\u001b[38;5;124m'\u001b[39m: \u001b[38;5;124m'\u001b[39m\u001b[38;5;124mSOFA\u001b[39m\u001b[38;5;124m'\u001b[39m,\n\u001b[1;32m     13\u001b[0m             \u001b[38;5;124m'\u001b[39m\u001b[38;5;124mage\u001b[39m\u001b[38;5;124m'\u001b[39m: \u001b[38;5;124m'\u001b[39m\u001b[38;5;124mAge\u001b[39m\u001b[38;5;124m'\u001b[39m,  \n\u001b[1;32m     14\u001b[0m             }\n\u001b[1;32m     15\u001b[0m )\n\u001b[1;32m     16\u001b[0m display(t)\n",
      "File \u001b[0;32m~/Documents/equiflow/equiflow/equiflow.py:51\u001b[0m, in \u001b[0;36mEquiFlow.table_characteristics\u001b[0;34m(self, *args, **kwargs)\u001b[0m\n\u001b[1;32m     50\u001b[0m \u001b[38;5;28;01mdef\u001b[39;00m \u001b[38;5;21mtable_characteristics\u001b[39m(\u001b[38;5;28mself\u001b[39m, \u001b[38;5;241m*\u001b[39margs, \u001b[38;5;241m*\u001b[39m\u001b[38;5;241m*\u001b[39mkwargs) \u001b[38;5;241m-\u001b[39m\u001b[38;5;241m>\u001b[39m pd\u001b[38;5;241m.\u001b[39mDataFrame:\n\u001b[0;32m---> 51\u001b[0m   table \u001b[38;5;241m=\u001b[39m TableCharacteristics(\u001b[38;5;28mself\u001b[39m\u001b[38;5;241m.\u001b[39m_dfs, \u001b[38;5;241m*\u001b[39margs, \u001b[38;5;241m*\u001b[39m\u001b[38;5;241m*\u001b[39mkwargs)\n\u001b[1;32m     52\u001b[0m   \u001b[38;5;28;01mreturn\u001b[39;00m table\u001b[38;5;241m.\u001b[39mbuild()\n",
      "File \u001b[0;32m~/Documents/equiflow/equiflow/equiflow.py:195\u001b[0m, in \u001b[0;36mTableCharacteristics.__init__\u001b[0;34m(self, *args, **kwargs)\u001b[0m\n\u001b[1;32m    193\u001b[0m \u001b[38;5;28;01mdef\u001b[39;00m \u001b[38;5;21m__init__\u001b[39m(\u001b[38;5;28mself\u001b[39m, \u001b[38;5;241m*\u001b[39margs, \u001b[38;5;241m*\u001b[39m\u001b[38;5;241m*\u001b[39mkwargs):\n\u001b[0;32m--> 195\u001b[0m   \u001b[38;5;28msuper\u001b[39m()\u001b[38;5;241m.\u001b[39m\u001b[38;5;21m__init__\u001b[39m(\u001b[38;5;241m*\u001b[39margs, \u001b[38;5;241m*\u001b[39m\u001b[38;5;241m*\u001b[39mkwargs)\n",
      "\u001b[0;31mTypeError\u001b[0m: BaseTable.__init__() got an unexpected keyword argument 'format'"
     ]
    }
   ],
   "source": [
    "t = ef.table_characteristics(\n",
    "    categorical = ['race','sex', 'english'],\n",
    "    nonnormal = ['sofa'],\n",
    "    normal = ['age'],\n",
    "    format = 'N',\n",
    "    missingness = True,\n",
    "    decimals = 1,\n",
    "    label_suffix = True,\n",
    "    rename={'race': 'Race and Ethnicity',\n",
    "            'english': 'English Proficiency',\n",
    "            'sex':'Sex',\n",
    "            'sofa': 'SOFA',\n",
    "            'age': 'Age',  \n",
    "            }\n",
    ")\n",
    "display(t)"
   ]
  },
  {
   "cell_type": "code",
   "execution_count": null,
   "metadata": {},
   "outputs": [
    {
     "data": {
      "text/plain": [
       "'50,052'"
      ]
     },
     "execution_count": 9,
     "metadata": {},
     "output_type": "execute_result"
    }
   ],
   "source": [
    "t.loc[('Sex, N', 'Male'), ('Cohort',0)]"
   ]
  },
  {
   "cell_type": "code",
   "execution_count": null,
   "metadata": {},
   "outputs": [
    {
     "data": {
      "text/plain": [
       "[]"
      ]
     },
     "execution_count": 10,
     "metadata": {},
     "output_type": "execute_result"
    }
   ],
   "source": [
    "prop1 = [0.501]\n",
    "prop1[1:]"
   ]
  },
  {
   "cell_type": "code",
   "execution_count": null,
   "metadata": {},
   "outputs": [],
   "source": []
  }
 ],
 "metadata": {
  "kernelspec": {
   "display_name": "ml",
   "language": "python",
   "name": "python3"
  },
  "language_info": {
   "codemirror_mode": {
    "name": "ipython",
    "version": 3
   },
   "file_extension": ".py",
   "mimetype": "text/x-python",
   "name": "python",
   "nbconvert_exporter": "python",
   "pygments_lexer": "ipython3",
   "version": "3.12.2"
  }
 },
 "nbformat": 4,
 "nbformat_minor": 2
}
